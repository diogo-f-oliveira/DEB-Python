{
 "cells": [
  {
   "cell_type": "code",
   "execution_count": 4,
   "metadata": {},
   "outputs": [],
   "source": [
    "import DEBpython.pet as pet\n",
    "import DEBpython.models as models\n",
    "from DEBpython.visualizer import Plotter\n",
    "import DEBpython.composition as composition\n",
    "\n",
    "import warnings\n",
    "from scipy.integrate import simpson\n",
    "import numpy as np\n",
    "import matplotlib.pyplot as plt\n",
    "import pandas as pd\n",
    "import seaborn as sns\n",
    "from datetime import datetime as dt\n",
    "\n",
    "import ipywidgets as widgets\n",
    "from IPython.display import display\n",
    "\n",
    "#%matplotlib nbagg\n",
    "%matplotlib inline"
   ]
  },
  {
   "cell_type": "code",
   "execution_count": 5,
   "metadata": {},
   "outputs": [
    {
     "name": "stdout",
     "output_type": "stream",
     "text": [
      "Parameters at T=311.75 K\n",
      "Surface-specific maximum assimilation rate: 8074.34 (J/d.cm^2)\n",
      "Allocation fraction to soma: 0.9633 (-)\n",
      "Energy conductance: 0.451337 (cm/d)\n",
      "Volume-specific somatic maintenance rate: 111.115 (J/d.cm^3)\n",
      "Specific cost for structure: 7960 (J/cm^3)\n",
      "Maturity maintenance rate constant: 0.0101893 (d^-1)\n",
      "Maturity at birth: 4335000.0 (J)\n",
      "Maturity at puberty: 26080000.0 (J)\n",
      "Reproduction efficiency: 0.95 (-)\n",
      "\n",
      "Chemical Reactions:\n",
      "Assimilation: 11.57 X + 4.957 O2 -> E + 6.027 CO2 + 1.815 H2O + 0.6981 CO(NH2)2 + 2.583 CH4 + 1.266 P\n",
      "Dissipation: E + 1.087 O2 -> 0.925 CO2 + 0.75 H2O + 0.075 CO(NH2)2\n",
      "Growth: E + 0.01854 O2 ->  0.9829 V + 0.01577 CO2 + 0.01279 H2O + 0.001279 CO(NH2)2\n",
      "\n"
     ]
    }
   ],
   "source": [
    "warnings.filterwarnings(\"ignore\")\n",
    "#mammal = pet.Ruminant(**pet.animals['bos_taurus_alentejana'])\n",
    "mammal = pet.Ruminant(**pet.animals['bos_taurus_angus'])\n",
    "#mammal = pet.Ruminant(**pet.animals['bos_taurus_limousin'])\n",
    "#mammal = pet.Ruminant(**pet.animals['bos_taurus_charolais'])\n",
    "print(mammal)\n",
    "# print(mammal.check_viability())"
   ]
  },
  {
   "cell_type": "code",
   "execution_count": 6,
   "metadata": {},
   "outputs": [],
   "source": [
    "def compute_metrics(breed, p_Am, kap_X, v):\n",
    "    mammal = pet.Ruminant(**pet.animals[f'bos_taurus_{breed.lower()}'])\n",
    "    mammal._p_Am = p_Am\n",
    "    mammal.kap_X = kap_X\n",
    "    mammal._v = v\n",
    "    model = models.RUM(mammal)\n",
    "    sol = model.simulate(food_function=1, t_span=(0, 440), step_size='auto', initial_state='birth')\n",
    "\n",
    "    for i, t in enumerate(sol.t):\n",
    "        if t > 330:\n",
    "            t1 = sol[t]\n",
    "            t1_i = i\n",
    "            break\n",
    "    t2 = sol.time_instant_sols[-1]\n",
    "    tfi = -simpson(sol.organic_fluxes[0, t1_i:], sol.t[t1_i:]) * sol.time_instant_sols[-1].organism.comp.X.w\n",
    "    td = (t2.t - t1.t)\n",
    "    dfi = tfi / td\n",
    "    adg = (t2.wet_weight - t1.wet_weight) / td\n",
    "    fcr = dfi / adg\n",
    "    rgr = (np.log(t2.wet_weight) - np.log(t1.wet_weight)) / td\n",
    "    # dfi =\n",
    "    print(f\"DFI: {dfi:.5} g\\n\"\n",
    "          f\"ADG: {adg:.4} g\\n\"\n",
    "          f\"FCR: {fcr:.4}\\n\"\n",
    "          f\"RGR: {rgr * 100:.4} %\")\n",
    "    \n",
    "def default_values(event):\n",
    "    # print(event)\n",
    "    if event['name'] == 'label':\n",
    "        breed = event['new']\n",
    "        p_Am_widget.value = pet.animals[f'bos_taurus_{breed.lower()}']['p_Am']\n",
    "        v_widget.value = pet.animals[f'bos_taurus_{breed.lower()}']['v']"
   ]
  },
  {
   "cell_type": "code",
   "execution_count": 7,
   "metadata": {},
   "outputs": [
    {
     "data": {
      "application/vnd.jupyter.widget-view+json": {
       "model_id": "5cac5eeffc3b49488bc7a68584fc5160",
       "version_major": 2,
       "version_minor": 0
      },
      "text/plain": [
       "interactive(children=(Dropdown(description='Breed:', options=('Alentejana', 'Angus', 'Charolais', 'Limousin'),…"
      ]
     },
     "execution_count": 7,
     "metadata": {},
     "output_type": "execute_result"
    }
   ],
   "source": [
    "cow_selector = widgets.Dropdown(options=['Alentejana', 'Angus', 'Charolais', 'Limousin'], value='Alentejana', description='Breed:', disabled=False)\n",
    "p_Am_widget = widgets.FloatSlider(min=1000, max=8000, value=mammal._p_Am, description='$\\{\\dot{p}_{Am}\\}$')\n",
    "kap_X_widget = widgets.FloatSlider(min=0, max=1, value=mammal.kap_X, description='$\\kappa_X$', step=0.05)\n",
    "v_widget = widgets.FloatSlider(min=0.01, max=1, value=mammal._v, description='$\\dot{v}$', step=0.01)\n",
    "cow_selector.observe(default_values)\n",
    "\n",
    "# display(p_Am_widget, kap_X_widget, cow_selector)\n",
    "widgets.interactive(compute_metrics, breed=cow_selector, p_Am=p_Am_widget, kap_X=kap_X_widget, v=v_widget)"
   ]
  },
  {
   "cell_type": "code",
   "execution_count": 8,
   "metadata": {},
   "outputs": [
    {
     "ename": "FileNotFoundError",
     "evalue": "[Errno 2] No such file or directory: '../Data/Angus/angus_2020_processed.csv'",
     "output_type": "error",
     "traceback": [
      "\u001b[1;31m---------------------------------------------------------------------------\u001b[0m",
      "\u001b[1;31mFileNotFoundError\u001b[0m                         Traceback (most recent call last)",
      "Cell \u001b[1;32mIn [8], line 1\u001b[0m\n\u001b[1;32m----> 1\u001b[0m angus \u001b[38;5;241m=\u001b[39m \u001b[43mpd\u001b[49m\u001b[38;5;241;43m.\u001b[39;49m\u001b[43mread_csv\u001b[49m\u001b[43m(\u001b[49m\u001b[38;5;124;43m\"\u001b[39;49m\u001b[38;5;124;43m../Data/Angus/angus_2020_processed.csv\u001b[39;49m\u001b[38;5;124;43m\"\u001b[39;49m\u001b[43m)\u001b[49m\n\u001b[0;32m      2\u001b[0m duration \u001b[38;5;241m=\u001b[39m \u001b[38;5;241m105\u001b[39m\n\u001b[0;32m      3\u001b[0m angus\u001b[38;5;241m.\u001b[39mhead()\n",
      "File \u001b[1;32m~\\AppData\\Local\\Programs\\Python\\Python38\\lib\\site-packages\\pandas\\util\\_decorators.py:211\u001b[0m, in \u001b[0;36mdeprecate_kwarg.<locals>._deprecate_kwarg.<locals>.wrapper\u001b[1;34m(*args, **kwargs)\u001b[0m\n\u001b[0;32m    209\u001b[0m     \u001b[38;5;28;01melse\u001b[39;00m:\n\u001b[0;32m    210\u001b[0m         kwargs[new_arg_name] \u001b[38;5;241m=\u001b[39m new_arg_value\n\u001b[1;32m--> 211\u001b[0m \u001b[38;5;28;01mreturn\u001b[39;00m \u001b[43mfunc\u001b[49m\u001b[43m(\u001b[49m\u001b[38;5;241;43m*\u001b[39;49m\u001b[43margs\u001b[49m\u001b[43m,\u001b[49m\u001b[43m \u001b[49m\u001b[38;5;241;43m*\u001b[39;49m\u001b[38;5;241;43m*\u001b[39;49m\u001b[43mkwargs\u001b[49m\u001b[43m)\u001b[49m\n",
      "File \u001b[1;32m~\\AppData\\Local\\Programs\\Python\\Python38\\lib\\site-packages\\pandas\\util\\_decorators.py:331\u001b[0m, in \u001b[0;36mdeprecate_nonkeyword_arguments.<locals>.decorate.<locals>.wrapper\u001b[1;34m(*args, **kwargs)\u001b[0m\n\u001b[0;32m    325\u001b[0m \u001b[38;5;28;01mif\u001b[39;00m \u001b[38;5;28mlen\u001b[39m(args) \u001b[38;5;241m>\u001b[39m num_allow_args:\n\u001b[0;32m    326\u001b[0m     warnings\u001b[38;5;241m.\u001b[39mwarn(\n\u001b[0;32m    327\u001b[0m         msg\u001b[38;5;241m.\u001b[39mformat(arguments\u001b[38;5;241m=\u001b[39m_format_argument_list(allow_args)),\n\u001b[0;32m    328\u001b[0m         \u001b[38;5;167;01mFutureWarning\u001b[39;00m,\n\u001b[0;32m    329\u001b[0m         stacklevel\u001b[38;5;241m=\u001b[39mfind_stack_level(),\n\u001b[0;32m    330\u001b[0m     )\n\u001b[1;32m--> 331\u001b[0m \u001b[38;5;28;01mreturn\u001b[39;00m \u001b[43mfunc\u001b[49m\u001b[43m(\u001b[49m\u001b[38;5;241;43m*\u001b[39;49m\u001b[43margs\u001b[49m\u001b[43m,\u001b[49m\u001b[43m \u001b[49m\u001b[38;5;241;43m*\u001b[39;49m\u001b[38;5;241;43m*\u001b[39;49m\u001b[43mkwargs\u001b[49m\u001b[43m)\u001b[49m\n",
      "File \u001b[1;32m~\\AppData\\Local\\Programs\\Python\\Python38\\lib\\site-packages\\pandas\\io\\parsers\\readers.py:950\u001b[0m, in \u001b[0;36mread_csv\u001b[1;34m(filepath_or_buffer, sep, delimiter, header, names, index_col, usecols, squeeze, prefix, mangle_dupe_cols, dtype, engine, converters, true_values, false_values, skipinitialspace, skiprows, skipfooter, nrows, na_values, keep_default_na, na_filter, verbose, skip_blank_lines, parse_dates, infer_datetime_format, keep_date_col, date_parser, dayfirst, cache_dates, iterator, chunksize, compression, thousands, decimal, lineterminator, quotechar, quoting, doublequote, escapechar, comment, encoding, encoding_errors, dialect, error_bad_lines, warn_bad_lines, on_bad_lines, delim_whitespace, low_memory, memory_map, float_precision, storage_options)\u001b[0m\n\u001b[0;32m    935\u001b[0m kwds_defaults \u001b[38;5;241m=\u001b[39m _refine_defaults_read(\n\u001b[0;32m    936\u001b[0m     dialect,\n\u001b[0;32m    937\u001b[0m     delimiter,\n\u001b[1;32m   (...)\u001b[0m\n\u001b[0;32m    946\u001b[0m     defaults\u001b[38;5;241m=\u001b[39m{\u001b[38;5;124m\"\u001b[39m\u001b[38;5;124mdelimiter\u001b[39m\u001b[38;5;124m\"\u001b[39m: \u001b[38;5;124m\"\u001b[39m\u001b[38;5;124m,\u001b[39m\u001b[38;5;124m\"\u001b[39m},\n\u001b[0;32m    947\u001b[0m )\n\u001b[0;32m    948\u001b[0m kwds\u001b[38;5;241m.\u001b[39mupdate(kwds_defaults)\n\u001b[1;32m--> 950\u001b[0m \u001b[38;5;28;01mreturn\u001b[39;00m \u001b[43m_read\u001b[49m\u001b[43m(\u001b[49m\u001b[43mfilepath_or_buffer\u001b[49m\u001b[43m,\u001b[49m\u001b[43m \u001b[49m\u001b[43mkwds\u001b[49m\u001b[43m)\u001b[49m\n",
      "File \u001b[1;32m~\\AppData\\Local\\Programs\\Python\\Python38\\lib\\site-packages\\pandas\\io\\parsers\\readers.py:605\u001b[0m, in \u001b[0;36m_read\u001b[1;34m(filepath_or_buffer, kwds)\u001b[0m\n\u001b[0;32m    602\u001b[0m _validate_names(kwds\u001b[38;5;241m.\u001b[39mget(\u001b[38;5;124m\"\u001b[39m\u001b[38;5;124mnames\u001b[39m\u001b[38;5;124m\"\u001b[39m, \u001b[38;5;28;01mNone\u001b[39;00m))\n\u001b[0;32m    604\u001b[0m \u001b[38;5;66;03m# Create the parser.\u001b[39;00m\n\u001b[1;32m--> 605\u001b[0m parser \u001b[38;5;241m=\u001b[39m \u001b[43mTextFileReader\u001b[49m\u001b[43m(\u001b[49m\u001b[43mfilepath_or_buffer\u001b[49m\u001b[43m,\u001b[49m\u001b[43m \u001b[49m\u001b[38;5;241;43m*\u001b[39;49m\u001b[38;5;241;43m*\u001b[39;49m\u001b[43mkwds\u001b[49m\u001b[43m)\u001b[49m\n\u001b[0;32m    607\u001b[0m \u001b[38;5;28;01mif\u001b[39;00m chunksize \u001b[38;5;129;01mor\u001b[39;00m iterator:\n\u001b[0;32m    608\u001b[0m     \u001b[38;5;28;01mreturn\u001b[39;00m parser\n",
      "File \u001b[1;32m~\\AppData\\Local\\Programs\\Python\\Python38\\lib\\site-packages\\pandas\\io\\parsers\\readers.py:1442\u001b[0m, in \u001b[0;36mTextFileReader.__init__\u001b[1;34m(self, f, engine, **kwds)\u001b[0m\n\u001b[0;32m   1439\u001b[0m     \u001b[38;5;28mself\u001b[39m\u001b[38;5;241m.\u001b[39moptions[\u001b[38;5;124m\"\u001b[39m\u001b[38;5;124mhas_index_names\u001b[39m\u001b[38;5;124m\"\u001b[39m] \u001b[38;5;241m=\u001b[39m kwds[\u001b[38;5;124m\"\u001b[39m\u001b[38;5;124mhas_index_names\u001b[39m\u001b[38;5;124m\"\u001b[39m]\n\u001b[0;32m   1441\u001b[0m \u001b[38;5;28mself\u001b[39m\u001b[38;5;241m.\u001b[39mhandles: IOHandles \u001b[38;5;241m|\u001b[39m \u001b[38;5;28;01mNone\u001b[39;00m \u001b[38;5;241m=\u001b[39m \u001b[38;5;28;01mNone\u001b[39;00m\n\u001b[1;32m-> 1442\u001b[0m \u001b[38;5;28mself\u001b[39m\u001b[38;5;241m.\u001b[39m_engine \u001b[38;5;241m=\u001b[39m \u001b[38;5;28;43mself\u001b[39;49m\u001b[38;5;241;43m.\u001b[39;49m\u001b[43m_make_engine\u001b[49m\u001b[43m(\u001b[49m\u001b[43mf\u001b[49m\u001b[43m,\u001b[49m\u001b[43m \u001b[49m\u001b[38;5;28;43mself\u001b[39;49m\u001b[38;5;241;43m.\u001b[39;49m\u001b[43mengine\u001b[49m\u001b[43m)\u001b[49m\n",
      "File \u001b[1;32m~\\AppData\\Local\\Programs\\Python\\Python38\\lib\\site-packages\\pandas\\io\\parsers\\readers.py:1735\u001b[0m, in \u001b[0;36mTextFileReader._make_engine\u001b[1;34m(self, f, engine)\u001b[0m\n\u001b[0;32m   1733\u001b[0m     \u001b[38;5;28;01mif\u001b[39;00m \u001b[38;5;124m\"\u001b[39m\u001b[38;5;124mb\u001b[39m\u001b[38;5;124m\"\u001b[39m \u001b[38;5;129;01mnot\u001b[39;00m \u001b[38;5;129;01min\u001b[39;00m mode:\n\u001b[0;32m   1734\u001b[0m         mode \u001b[38;5;241m+\u001b[39m\u001b[38;5;241m=\u001b[39m \u001b[38;5;124m\"\u001b[39m\u001b[38;5;124mb\u001b[39m\u001b[38;5;124m\"\u001b[39m\n\u001b[1;32m-> 1735\u001b[0m \u001b[38;5;28mself\u001b[39m\u001b[38;5;241m.\u001b[39mhandles \u001b[38;5;241m=\u001b[39m \u001b[43mget_handle\u001b[49m\u001b[43m(\u001b[49m\n\u001b[0;32m   1736\u001b[0m \u001b[43m    \u001b[49m\u001b[43mf\u001b[49m\u001b[43m,\u001b[49m\n\u001b[0;32m   1737\u001b[0m \u001b[43m    \u001b[49m\u001b[43mmode\u001b[49m\u001b[43m,\u001b[49m\n\u001b[0;32m   1738\u001b[0m \u001b[43m    \u001b[49m\u001b[43mencoding\u001b[49m\u001b[38;5;241;43m=\u001b[39;49m\u001b[38;5;28;43mself\u001b[39;49m\u001b[38;5;241;43m.\u001b[39;49m\u001b[43moptions\u001b[49m\u001b[38;5;241;43m.\u001b[39;49m\u001b[43mget\u001b[49m\u001b[43m(\u001b[49m\u001b[38;5;124;43m\"\u001b[39;49m\u001b[38;5;124;43mencoding\u001b[39;49m\u001b[38;5;124;43m\"\u001b[39;49m\u001b[43m,\u001b[49m\u001b[43m \u001b[49m\u001b[38;5;28;43;01mNone\u001b[39;49;00m\u001b[43m)\u001b[49m\u001b[43m,\u001b[49m\n\u001b[0;32m   1739\u001b[0m \u001b[43m    \u001b[49m\u001b[43mcompression\u001b[49m\u001b[38;5;241;43m=\u001b[39;49m\u001b[38;5;28;43mself\u001b[39;49m\u001b[38;5;241;43m.\u001b[39;49m\u001b[43moptions\u001b[49m\u001b[38;5;241;43m.\u001b[39;49m\u001b[43mget\u001b[49m\u001b[43m(\u001b[49m\u001b[38;5;124;43m\"\u001b[39;49m\u001b[38;5;124;43mcompression\u001b[39;49m\u001b[38;5;124;43m\"\u001b[39;49m\u001b[43m,\u001b[49m\u001b[43m \u001b[49m\u001b[38;5;28;43;01mNone\u001b[39;49;00m\u001b[43m)\u001b[49m\u001b[43m,\u001b[49m\n\u001b[0;32m   1740\u001b[0m \u001b[43m    \u001b[49m\u001b[43mmemory_map\u001b[49m\u001b[38;5;241;43m=\u001b[39;49m\u001b[38;5;28;43mself\u001b[39;49m\u001b[38;5;241;43m.\u001b[39;49m\u001b[43moptions\u001b[49m\u001b[38;5;241;43m.\u001b[39;49m\u001b[43mget\u001b[49m\u001b[43m(\u001b[49m\u001b[38;5;124;43m\"\u001b[39;49m\u001b[38;5;124;43mmemory_map\u001b[39;49m\u001b[38;5;124;43m\"\u001b[39;49m\u001b[43m,\u001b[49m\u001b[43m \u001b[49m\u001b[38;5;28;43;01mFalse\u001b[39;49;00m\u001b[43m)\u001b[49m\u001b[43m,\u001b[49m\n\u001b[0;32m   1741\u001b[0m \u001b[43m    \u001b[49m\u001b[43mis_text\u001b[49m\u001b[38;5;241;43m=\u001b[39;49m\u001b[43mis_text\u001b[49m\u001b[43m,\u001b[49m\n\u001b[0;32m   1742\u001b[0m \u001b[43m    \u001b[49m\u001b[43merrors\u001b[49m\u001b[38;5;241;43m=\u001b[39;49m\u001b[38;5;28;43mself\u001b[39;49m\u001b[38;5;241;43m.\u001b[39;49m\u001b[43moptions\u001b[49m\u001b[38;5;241;43m.\u001b[39;49m\u001b[43mget\u001b[49m\u001b[43m(\u001b[49m\u001b[38;5;124;43m\"\u001b[39;49m\u001b[38;5;124;43mencoding_errors\u001b[39;49m\u001b[38;5;124;43m\"\u001b[39;49m\u001b[43m,\u001b[49m\u001b[43m \u001b[49m\u001b[38;5;124;43m\"\u001b[39;49m\u001b[38;5;124;43mstrict\u001b[39;49m\u001b[38;5;124;43m\"\u001b[39;49m\u001b[43m)\u001b[49m\u001b[43m,\u001b[49m\n\u001b[0;32m   1743\u001b[0m \u001b[43m    \u001b[49m\u001b[43mstorage_options\u001b[49m\u001b[38;5;241;43m=\u001b[39;49m\u001b[38;5;28;43mself\u001b[39;49m\u001b[38;5;241;43m.\u001b[39;49m\u001b[43moptions\u001b[49m\u001b[38;5;241;43m.\u001b[39;49m\u001b[43mget\u001b[49m\u001b[43m(\u001b[49m\u001b[38;5;124;43m\"\u001b[39;49m\u001b[38;5;124;43mstorage_options\u001b[39;49m\u001b[38;5;124;43m\"\u001b[39;49m\u001b[43m,\u001b[49m\u001b[43m \u001b[49m\u001b[38;5;28;43;01mNone\u001b[39;49;00m\u001b[43m)\u001b[49m\u001b[43m,\u001b[49m\n\u001b[0;32m   1744\u001b[0m \u001b[43m\u001b[49m\u001b[43m)\u001b[49m\n\u001b[0;32m   1745\u001b[0m \u001b[38;5;28;01massert\u001b[39;00m \u001b[38;5;28mself\u001b[39m\u001b[38;5;241m.\u001b[39mhandles \u001b[38;5;129;01mis\u001b[39;00m \u001b[38;5;129;01mnot\u001b[39;00m \u001b[38;5;28;01mNone\u001b[39;00m\n\u001b[0;32m   1746\u001b[0m f \u001b[38;5;241m=\u001b[39m \u001b[38;5;28mself\u001b[39m\u001b[38;5;241m.\u001b[39mhandles\u001b[38;5;241m.\u001b[39mhandle\n",
      "File \u001b[1;32m~\\AppData\\Local\\Programs\\Python\\Python38\\lib\\site-packages\\pandas\\io\\common.py:856\u001b[0m, in \u001b[0;36mget_handle\u001b[1;34m(path_or_buf, mode, encoding, compression, memory_map, is_text, errors, storage_options)\u001b[0m\n\u001b[0;32m    851\u001b[0m \u001b[38;5;28;01melif\u001b[39;00m \u001b[38;5;28misinstance\u001b[39m(handle, \u001b[38;5;28mstr\u001b[39m):\n\u001b[0;32m    852\u001b[0m     \u001b[38;5;66;03m# Check whether the filename is to be opened in binary mode.\u001b[39;00m\n\u001b[0;32m    853\u001b[0m     \u001b[38;5;66;03m# Binary mode does not support 'encoding' and 'newline'.\u001b[39;00m\n\u001b[0;32m    854\u001b[0m     \u001b[38;5;28;01mif\u001b[39;00m ioargs\u001b[38;5;241m.\u001b[39mencoding \u001b[38;5;129;01mand\u001b[39;00m \u001b[38;5;124m\"\u001b[39m\u001b[38;5;124mb\u001b[39m\u001b[38;5;124m\"\u001b[39m \u001b[38;5;129;01mnot\u001b[39;00m \u001b[38;5;129;01min\u001b[39;00m ioargs\u001b[38;5;241m.\u001b[39mmode:\n\u001b[0;32m    855\u001b[0m         \u001b[38;5;66;03m# Encoding\u001b[39;00m\n\u001b[1;32m--> 856\u001b[0m         handle \u001b[38;5;241m=\u001b[39m \u001b[38;5;28;43mopen\u001b[39;49m\u001b[43m(\u001b[49m\n\u001b[0;32m    857\u001b[0m \u001b[43m            \u001b[49m\u001b[43mhandle\u001b[49m\u001b[43m,\u001b[49m\n\u001b[0;32m    858\u001b[0m \u001b[43m            \u001b[49m\u001b[43mioargs\u001b[49m\u001b[38;5;241;43m.\u001b[39;49m\u001b[43mmode\u001b[49m\u001b[43m,\u001b[49m\n\u001b[0;32m    859\u001b[0m \u001b[43m            \u001b[49m\u001b[43mencoding\u001b[49m\u001b[38;5;241;43m=\u001b[39;49m\u001b[43mioargs\u001b[49m\u001b[38;5;241;43m.\u001b[39;49m\u001b[43mencoding\u001b[49m\u001b[43m,\u001b[49m\n\u001b[0;32m    860\u001b[0m \u001b[43m            \u001b[49m\u001b[43merrors\u001b[49m\u001b[38;5;241;43m=\u001b[39;49m\u001b[43merrors\u001b[49m\u001b[43m,\u001b[49m\n\u001b[0;32m    861\u001b[0m \u001b[43m            \u001b[49m\u001b[43mnewline\u001b[49m\u001b[38;5;241;43m=\u001b[39;49m\u001b[38;5;124;43m\"\u001b[39;49m\u001b[38;5;124;43m\"\u001b[39;49m\u001b[43m,\u001b[49m\n\u001b[0;32m    862\u001b[0m \u001b[43m        \u001b[49m\u001b[43m)\u001b[49m\n\u001b[0;32m    863\u001b[0m     \u001b[38;5;28;01melse\u001b[39;00m:\n\u001b[0;32m    864\u001b[0m         \u001b[38;5;66;03m# Binary mode\u001b[39;00m\n\u001b[0;32m    865\u001b[0m         handle \u001b[38;5;241m=\u001b[39m \u001b[38;5;28mopen\u001b[39m(handle, ioargs\u001b[38;5;241m.\u001b[39mmode)\n",
      "\u001b[1;31mFileNotFoundError\u001b[0m: [Errno 2] No such file or directory: '../Data/Angus/angus_2020_processed.csv'"
     ]
    }
   ],
   "source": [
    "angus = pd.read_csv(\"../Data/Angus/angus_2020_processed.csv\")\n",
    "duration = 105\n",
    "angus.head()"
   ]
  },
  {
   "cell_type": "code",
   "execution_count": null,
   "metadata": {},
   "outputs": [],
   "source": [
    "final_ages = [float(t) for t in angus['age'].values]\n",
    "initial_ages = [t-105 for t in final_ages]\n",
    "print(initial_ages, final_ages)"
   ]
  },
  {
   "cell_type": "code",
   "execution_count": null,
   "metadata": {},
   "outputs": [],
   "source": [
    "mammal = pet.Ruminant(**pet.animals['bos_taurus_angus'])\n",
    "def compare_deb_with_data(p_Am, v, p_M, kap_X, kappa):\n",
    "    fig, axes = plt.subplots(1,2,figsize=(16,10))\n",
    "    sns.scatterplot(data=angus, x='age', y='weight_gain', ax=axes[0])\n",
    "    sns.scatterplot(data=angus, x='age', y='Inges MS', ax=axes[1])\n",
    "    weight_gains_list = []\n",
    "    feed_consumption_list = []\n",
    "    format_strings = ['yo-', 'ro-']\n",
    "    for i in range(2):\n",
    "        mammal = pet.Ruminant(**pet.animals['bos_taurus_angus'])\n",
    "        mammal._p_Am = p_Am[i]\n",
    "        mammal._v = v[i]\n",
    "        mammal._p_M = p_M[i]\n",
    "        mammal.kap_X = kap_X[i]\n",
    "        mammal.kappa = kappa[i]\n",
    "\n",
    "        # Simulate Angus cow with DEB\n",
    "        model = models.RUM(mammal)\n",
    "        sol = model.simulate(food_function=1, t_span=(0, 450), step_size='auto', initial_state='birth')\n",
    "        \n",
    "        # Compute weight gains during experiment duration, assuming initial test for each data point\n",
    "        weight_gains_deb = []\n",
    "        for agei, agef in zip(initial_ages, final_ages):\n",
    "            weight_gains_deb.append((sol[agef].wet_weight - sol[agei].wet_weight) / 1000)\n",
    "        weight_gains_list.append(weight_gains_deb)\n",
    "        axes[0].plot(final_ages, weight_gains_deb, format_strings[i])\n",
    "        \n",
    "        # Compute feed consumption\n",
    "        feed_cons_deb = []\n",
    "        for agei, agef in zip(initial_ages, final_ages):\n",
    "            feed_cons_deb.append(sol.total_feed_intake(t1=sol.find_closest_time_step(agei),t2=sol.find_closest_time_step(agef))/1000)\n",
    "        feed_consumption_list.append(feed_cons_deb)\n",
    "        axes[1].plot(final_ages, feed_cons_deb, format_strings[i])\n",
    "        \n",
    "    # Weight plot\n",
    "    axes[0].fill_between(final_ages, weight_gains_list[0], weight_gains_list[1], alpha=0.5, zorder=-1)\n",
    "    axes[0].set_ylabel('Weight Gain during Test [kg]', fontsize=16)\n",
    "    axes[0].set_xlabel('Age at end of Test [d]', fontsize=16)\n",
    "    axes[0].grid()\n",
    "    axes[0].set_xlim([340, 440])\n",
    "    axes[0].set_ylim([0, 300])\n",
    "    \n",
    "    # Feed Consumption Plot\n",
    "    axes[1].fill_between(final_ages, feed_consumption_list[0], feed_consumption_list[1], alpha=0.5, zorder=-1)\n",
    "    axes[1].set_ylabel('Feed Consumption during Test [kg]', fontsize=16)\n",
    "    axes[1].set_xlabel('Age at end of Test [d]', fontsize=16)\n",
    "    axes[1].grid()\n",
    "    axes[1].set_xlim([340, 440])\n",
    "    axes[1].set_ylim([0, 1750])\n",
    "    \n",
    "\n",
    "# WIDGETS\n",
    "p_Am_widget = widgets.FloatRangeSlider(min=1000, max=10000, value=(mammal._p_Am, mammal._p_Am), description='$\\{\\dot{p}_{Am}\\}$', layout=widgets.Layout(width='40%'))\n",
    "v_widget = widgets.FloatRangeSlider(min=0.01, max=0.25, value=(mammal._v, mammal._v), description='$\\dot{v}$', step=0.001, layout=widgets.Layout(width='40%'))\n",
    "p_M_widget = widgets.FloatRangeSlider(min=50, max=250, value=(mammal._p_M, mammal._p_M), description='$[\\dot{p}_M]$', layout=widgets.Layout(width='40%'))\n",
    "kap_X_widget = widgets.FloatRangeSlider(min=0, max=1, value=(mammal.kap_X, mammal.kap_X), description='$\\kappa_X$', layout=widgets.Layout(width='40%'), step=0.01)\n",
    "kappa_widget = widgets.FloatRangeSlider(min=0, max=1, value=(mammal.kappa, mammal.kappa), description='$\\kappa$', layout=widgets.Layout(width='40%'), step=0.01)\n",
    "\n",
    "widgets.interactive(compare_deb_with_data, p_Am=p_Am_widget, v=v_widget, p_M=p_M_widget, kap_X=kap_X_widget, kappa=kappa_widget)"
   ]
  },
  {
   "cell_type": "code",
   "execution_count": null,
   "metadata": {
    "scrolled": false
   },
   "outputs": [],
   "source": [
    "#mammal = pet.Ruminant(**pet.animals['bos_taurus_alentejana'])\n",
    "mammal = pet.Pet(**pet.animals['sheep'])\n",
    "feed_weight = pd.read_csv(\"../Data/ACBM/CSV Files/weight_intake_2021.csv\")\n",
    "feed_weight"
   ]
  },
  {
   "cell_type": "code",
   "execution_count": null,
   "metadata": {},
   "outputs": [],
   "source": [
    "\n",
    "def cbrt(num):\n",
    "    return np.power(num, 1/3)\n",
    "f = 1\n",
    "#mammal.kap_X = 0.999\n",
    "alpha = mammal.p_Am * mammal.comp.X.w / mammal.comp.X.mu / mammal.kap_X * f\n",
    "omega = 1 + f * mammal.E_m * mammal.comp.E.w / mammal.comp.E.d / mammal.comp.E.mu \n",
    "r_b = mammal.von_bertanlanffy_growth_rate(f)\n",
    "Li = mammal.L_m*f\n",
    "model = models.STD(mammal)\n",
    "Lb = cbrt(model.get_state_at_maturity(mammal.E_Hb)[1])\n",
    "Wi = cbrt(omega)*Li\n",
    "Wb = cbrt(omega)*Lb\n",
    "\n",
    "def tfi_vs_time(t):\n",
    "    return alpha * (-0.5 / r_b * ((2*Li - (Li - Lb) * np.exp(-r_b*t))**2 - (Li + Lb)**2) + Li * Li * t)\n",
    "def tfi_vs_length(L):\n",
    "    return alpha / r_b * (-0.5  * ( (Li + L)**2 - (Li + Lb)**2 ) + Li * Li * np.log((Li-Lb)/(Li-L)))\n",
    "def tfi_vs_weight(w):\n",
    "    W = cbrt(w)\n",
    "    return alpha * ((1/omega)**(2/3)) / r_b * (-0.5  * ( (Wi + W)**2 - (Wi + Wb)**2 ) + Wi * Wi * np.log((Wi-Wb)/(Wi-W)))\n",
    "\n",
    "sol = model.simulate(food_function=f, t_span=(0, 4500), step_size='auto', initial_state='birth')\n",
    "\n",
    "from scipy.integrate import cumulative_trapezoid"
   ]
  },
  {
   "cell_type": "code",
   "execution_count": null,
   "metadata": {
    "scrolled": true
   },
   "outputs": [],
   "source": [
    "print(tfi_vs_weight(10_000) / 1.034)\n",
    "print(tfi_vs_weight(13_000) / 1.034)"
   ]
  },
  {
   "cell_type": "code",
   "execution_count": null,
   "metadata": {},
   "outputs": [],
   "source": [
    "fig, ax = plt.subplots(figsize=(16,10))\n",
    "t = np.linspace(0, 4500, 4500)\n",
    "ax.plot(t, tfi_vs_time(t), label='Analytical', linewidth=3)\n",
    "\n",
    "tfi = cumulative_trapezoid(-sol.feed_intake, sol.t, initial=0)\n",
    "ax.plot(sol.t, tfi, '-.', label='Simulation', alpha=0.7, linewidth=3)\n",
    "\n",
    "ax.grid()\n",
    "ax.set_xlabel(\"Time [d]\", fontsize=16)\n",
    "ax.set_ylabel(\"Total Feed Intake [g]\", fontsize=16)\n",
    "ax.set_title(\"Total Feed Intake vs Time\", fontsize=16)\n",
    "ax.legend()\n",
    "fig.savefig(\"Figures/tfi_time\")"
   ]
  },
  {
   "cell_type": "code",
   "execution_count": null,
   "metadata": {},
   "outputs": [],
   "source": [
    "fig, ax = plt.subplots(figsize=(16,10))\n",
    "L = np.linspace(Lb, Li, len(sol.t))\n",
    "ax.plot(L, tfi_vs_length(L), label='Analytical', linewidth=3)\n",
    "\n",
    "simul_lengths = cbrt(sol.V)\n",
    "print(simul_lengths)\n",
    "tfi = cumulative_trapezoid(-sol.feed_intake, initial=0)\n",
    "\n",
    "ax.plot(simul_lengths, tfi, '-.', label='Simulation', alpha=0.7, linewidth=3)\n",
    "ax.grid()\n",
    "ax.set_xlabel(\"Length [cm]\", fontsize=16)\n",
    "ax.set_ylabel(\"Total Feed Intake [g]\", fontsize=16)\n",
    "ax.set_title(\"Total Feed Intake vs Length\", fontsize=16)\n",
    "ax.legend()\n",
    "fig.savefig(\"Figures/tfi_length\")"
   ]
  },
  {
   "cell_type": "code",
   "execution_count": null,
   "metadata": {},
   "outputs": [],
   "source": [
    "fig, ax = plt.subplots(figsize=(16,10))\n",
    "W = np.linspace(Wb**3, Wi**3, len(sol.t))\n",
    "ax.plot(W, tfi_vs_weight(W), label='Analytical', linewidth=3)\n",
    "\n",
    "\n",
    "tfi = cumulative_trapezoid(-sol.feed_intake, initial=0)\n",
    "\n",
    "ax.plot(sol.wet_weight, tfi, '-.', label='Simulation', alpha=0.7, linewidth=3)\n",
    "ax.grid()\n",
    "ax.set_xlabel(\"Wet Weight [g]\", fontsize=16)\n",
    "ax.set_ylabel(\"Total Feed Intake [g]\", fontsize=16)\n",
    "ax.set_title(\"Total Feed Intake vs Length\", fontsize=16)\n",
    "ax.legend()\n",
    "fig.savefig(\"Figures/tfi_weight\")"
   ]
  },
  {
   "cell_type": "code",
   "execution_count": null,
   "metadata": {},
   "outputs": [],
   "source": [
    "mammal = pet.Ruminant(**pet.animals['ovis_aries_lacaune'])\n",
    "mammal._p_Am = 32* 57.54/.955\n",
    "model = models.RUM(mammal)\n",
    "sol = model.simulate(food_function=0.7, t_span=(0, 33), step_size='auto', initial_state='birth')\n"
   ]
  },
  {
   "cell_type": "code",
   "execution_count": null,
   "metadata": {},
   "outputs": [],
   "source": [
    "mammal._p_Am"
   ]
  },
  {
   "cell_type": "code",
   "execution_count": null,
   "metadata": {},
   "outputs": [],
   "source": [
    "df = pd.read_csv(\"../Data/Sheep 4.0/lamb_weights_2022.csv\")\n",
    "df['dob'] = df['dob'].astype(str)\n",
    "df.head()\n"
   ]
  },
  {
   "cell_type": "code",
   "execution_count": null,
   "metadata": {},
   "outputs": [],
   "source": [
    "np.isnan(df.loc[0,'2022-02-18'])"
   ]
  },
  {
   "cell_type": "code",
   "execution_count": null,
   "metadata": {},
   "outputs": [],
   "source": [
    "dates = ['2022-02-18', '2022-02-28', '2022-03-07']\n",
    "weights_dict = {'id': [], 'age':[], 'weight': []}\n",
    "for i in df.index.values:\n",
    "    lamb_dob = dt.fromisoformat(df.loc[i,'dob'])\n",
    "    lamb_id = df.loc[i,'id']\n",
    "    weights_dict['id'].append(lamb_id)\n",
    "    weights_dict['weight'].append(df.loc[i,'wb'])\n",
    "    weights_dict['age'].append(0)\n",
    "    for d in dates:\n",
    "        d_dt = dt.fromisoformat(d)\n",
    "        lamb_weight = df.loc[i,d]\n",
    "        if lamb_weight == 0 or np.isnan(lamb_weight):\n",
    "            continue\n",
    "        weights_dict['id'].append(lamb_id)\n",
    "        weights_dict['weight'].append(lamb_weight)\n",
    "        weights_dict['age'].append((d_dt-lamb_dob).days)\n",
    "lamb = pd.DataFrame(weights_dict)\n",
    "lamb.head()"
   ]
  },
  {
   "cell_type": "code",
   "execution_count": null,
   "metadata": {},
   "outputs": [],
   "source": [
    "avg_w = lamb.groupby(by='age').mean().weight\n",
    "avg_w"
   ]
  },
  {
   "cell_type": "code",
   "execution_count": null,
   "metadata": {},
   "outputs": [],
   "source": [
    "fig, ax = plt.subplots(figsize=(12,7.5))\n",
    "ax.plot(sol.t, sol.wet_weight / 1000, label='Modelo DEB', linewidth=4)\n",
    "ax.set_ylabel(\"Peso [kg]\",fontsize=14)\n",
    "ax.set_xlabel(\"Idade [d]\",fontsize=14)\n",
    "\n",
    "ax.plot(avg_w, 'o', label='Média dos Pesos')\n",
    "ax.legend(fontsize=12)\n",
    "ax.set_title(\"Evolução dos Pesos dos Borregos Nascidos em 2022\", fontsize=14)"
   ]
  }
 ],
 "metadata": {
  "kernelspec": {
   "display_name": "Python 3 (ipykernel)",
   "language": "python",
   "name": "python3"
  },
  "language_info": {
   "codemirror_mode": {
    "name": "ipython",
    "version": 3
   },
   "file_extension": ".py",
   "mimetype": "text/x-python",
   "name": "python",
   "nbconvert_exporter": "python",
   "pygments_lexer": "ipython3",
   "version": "3.8.10"
  },
  "vscode": {
   "interpreter": {
    "hash": "daa0c182d82d22f717606f404837faf4920a7a98a2c693eee88d6a3d467fb469"
   }
  }
 },
 "nbformat": 4,
 "nbformat_minor": 4
}
